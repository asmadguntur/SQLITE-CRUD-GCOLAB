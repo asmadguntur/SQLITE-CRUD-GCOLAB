{
  "nbformat": 4,
  "nbformat_minor": 0,
  "metadata": {
    "colab": {
      "provenance": []
    },
    "kernelspec": {
      "name": "python3",
      "display_name": "Python 3"
    },
    "language_info": {
      "name": "python"
    }
  },
  "cells": [
    {
      "cell_type": "markdown",
      "source": [
        "#CREATE DATABASE"
      ],
      "metadata": {
        "id": "8ancNd2bvZI1"
      }
    },
    {
      "cell_type": "code",
      "execution_count": 3,
      "metadata": {
        "id": "7lbQRY47qJES"
      },
      "outputs": [],
      "source": [
        "import sqlite3\n",
        "import pandas as pd"
      ]
    },
    {
      "cell_type": "code",
      "source": [
        "# Create or connect to database\n",
        "conn = sqlite3.connect('crud_project.db')\n",
        "cursor = conn.cursor()\n"
      ],
      "metadata": {
        "id": "xJuh8do1q7nG"
      },
      "execution_count": 4,
      "outputs": []
    },
    {
      "cell_type": "markdown",
      "source": [
        "# CREATE (ADDING DATA)"
      ],
      "metadata": {
        "id": "RGDawLzKy5Re"
      }
    },
    {
      "cell_type": "code",
      "source": [
        "# Create new table \"users\"\n",
        "cursor.execute('''\n",
        "CREATE TABLE IF NOT EXISTS users (\n",
        "    id INTEGER PRIMARY KEY AUTOINCREMENT,\n",
        "    name TEXT NOT NULL,\n",
        "    email TEXT UNIQUE NOT NULL,\n",
        "    age INTEGER\n",
        ")\n",
        "''')\n",
        "\n",
        "# Save changes\n",
        "conn.commit()\n",
        "\n",
        "# Show message\n",
        "print(\"Table 'users' was created successfully.\")\n"
      ],
      "metadata": {
        "colab": {
          "base_uri": "https://localhost:8080/"
        },
        "id": "WGL_-vmiubdR",
        "outputId": "91dec172-8167-44c6-eb0d-12d342109298"
      },
      "execution_count": 9,
      "outputs": [
        {
          "output_type": "stream",
          "name": "stdout",
          "text": [
            "Table 'users' was created successfully.\n"
          ]
        }
      ]
    },
    {
      "cell_type": "code",
      "source": [
        "# Data add function\n",
        "def create_user(name, email, age):\n",
        "    try:\n",
        "        cursor.execute('''\n",
        "        INSERT INTO users (name, email, age)\n",
        "        VALUES (?, ?, ?)\n",
        "        ''', (name, email, age))\n",
        "        conn.commit()\n",
        "        print(\"Data successfully added.\")\n",
        "    except sqlite3.IntegrityError as e:\n",
        "        print(f\"Error: {e}\")\n",
        "\n",
        "# Usage example\n",
        "create_user('John Doe', 'john@example.com', 30)\n",
        "create_user('Jane Doe', 'jane@example.com', 25)\n"
      ],
      "metadata": {
        "colab": {
          "base_uri": "https://localhost:8080/"
        },
        "id": "63Q-49ckujK8",
        "outputId": "3f389eb3-ff61-4350-8956-7ede46a2faf5"
      },
      "execution_count": 29,
      "outputs": [
        {
          "output_type": "stream",
          "name": "stdout",
          "text": [
            "Data successfully added.\n",
            "Data successfully added.\n"
          ]
        }
      ]
    },
    {
      "cell_type": "markdown",
      "source": [
        "# READ (READING DATA)"
      ],
      "metadata": {
        "id": "rPzlPSCVzWSf"
      }
    },
    {
      "cell_type": "code",
      "source": [
        "# Data reading function\n",
        "def read_users():\n",
        "    df = pd.read_sql_query('SELECT * FROM users', conn)\n",
        "    print(df)"
      ],
      "metadata": {
        "id": "UwPs59DozUxj"
      },
      "execution_count": 30,
      "outputs": []
    },
    {
      "cell_type": "code",
      "source": [
        "# Usage example\n",
        "read_users()"
      ],
      "metadata": {
        "colab": {
          "base_uri": "https://localhost:8080/"
        },
        "id": "8oTTeOFYz45Q",
        "outputId": "fe874635-1f98-4579-94fa-fb952cff9fae"
      },
      "execution_count": 31,
      "outputs": [
        {
          "output_type": "stream",
          "name": "stdout",
          "text": [
            "   id      name             email  age\n",
            "0   5  John Doe  john@example.com   30\n",
            "1   6  Jane Doe  jane@example.com   25\n"
          ]
        }
      ]
    },
    {
      "cell_type": "markdown",
      "source": [
        "#UPDATE (UPDATING DATA)"
      ],
      "metadata": {
        "id": "jlwld6hD1TAl"
      }
    },
    {
      "cell_type": "code",
      "source": [
        "# Data pdate function\n",
        "def update_user(user_id, name=None, email=None, age=None):\n",
        "    query = \"UPDATE users SET \"\n",
        "    params = []\n",
        "    if name:\n",
        "        query += \"name = ?, \"\n",
        "        params.append(name)\n",
        "    if email:\n",
        "        query += \"email = ?, \"\n",
        "        params.append(email)\n",
        "    if age:\n",
        "        query += \"age = ?, \"\n",
        "        params.append(age)\n",
        "\n",
        "    query = query.rstrip(', ')  # Deleting the last comma\n",
        "    query += \" WHERE id = ?\"\n",
        "    params.append(user_id)\n",
        "\n",
        "    cursor.execute(query, tuple(params))\n",
        "    conn.commit()\n",
        "    print(\"Data was successfully added\")"
      ],
      "metadata": {
        "id": "JSw2clrf0HjC"
      },
      "execution_count": 34,
      "outputs": []
    },
    {
      "cell_type": "code",
      "source": [
        "# Usage example\n",
        "update_user(1, name=\"John Smith\")\n",
        "read_users()"
      ],
      "metadata": {
        "colab": {
          "base_uri": "https://localhost:8080/"
        },
        "id": "8ehHSlq81nyv",
        "outputId": "c49c09c5-a6a7-49d8-ee88-c525625342d8"
      },
      "execution_count": 33,
      "outputs": [
        {
          "output_type": "stream",
          "name": "stdout",
          "text": [
            "Data berhasil diperbarui.\n",
            "   id      name             email  age\n",
            "0   5  John Doe  john@example.com   30\n",
            "1   6  Jane Doe  jane@example.com   25\n"
          ]
        }
      ]
    },
    {
      "cell_type": "markdown",
      "source": [
        "# DELETE (CLEAR DATA)"
      ],
      "metadata": {
        "id": "bzwnS7Sv2iJM"
      }
    },
    {
      "cell_type": "code",
      "source": [
        "# Delete data function\n",
        "def delete_user(user_id):\n",
        "    cursor.execute('DELETE FROM users WHERE id = ?', (user_id,))\n",
        "    conn.commit()\n",
        "    print(f\"Data with ID {user_id} was successfully deleted.\")"
      ],
      "metadata": {
        "id": "SND65B-N0gOM"
      },
      "execution_count": 35,
      "outputs": []
    },
    {
      "cell_type": "code",
      "source": [
        "# Usage example\n",
        "delete_user(5)\n",
        "read_users()"
      ],
      "metadata": {
        "colab": {
          "base_uri": "https://localhost:8080/"
        },
        "id": "T45dzahF2O4-",
        "outputId": "2a2ec477-875e-498f-d167-13a544caf3d9"
      },
      "execution_count": 36,
      "outputs": [
        {
          "output_type": "stream",
          "name": "stdout",
          "text": [
            "Data with ID 5 was successfully deleted.\n",
            "   id      name             email  age\n",
            "0   6  Jane Doe  jane@example.com   25\n"
          ]
        }
      ]
    }
  ]
}